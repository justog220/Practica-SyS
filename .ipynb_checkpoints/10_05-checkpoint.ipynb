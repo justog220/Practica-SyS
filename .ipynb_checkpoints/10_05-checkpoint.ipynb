{
 "cells": [
  {
   "cell_type": "markdown",
   "id": "4a7e4359-3730-4de3-a845-598e26421eb5",
   "metadata": {},
   "source": [
    "# Aplicaciones del PDS en genómica\n",
    "Los esfuerzos en primer isntancia fueron por traducir secuencia de ADN a secuencia numérica. Cada años alen nuevas representaciones, que no son completamente novedosas.\n",
    "\n",
    "EL conocimiento de los exones fue muy relevante, los intrones se tratan como ruido. En los exones aparece cierta periodicidad, y esto lo podemos analizar con las herramientas de SyS.\n",
    "\n",
    "## Representaciones\n",
    "### Representación binaria (Voss)\n",
    "Mapea los nucleótidos en vuatro secuencias binarias indicadoras:\n",
    "$x_A$\n",
    "$x_G$\n",
    "$x_C$\n",
    "$x_T$\n",
    "\n",
    "Son en función de la posicón, no del tiempo.\n",
    "\n",
    "## Preiccion de exónes\n",
    "Como hay periodicidad en la frecuencia de bases, se analiza con Fourier. Si no hay exones debería esperar ruido en el espectro de magnitud.\n",
    "\n",
    "### Medicción del contenido espectral (SC)\n",
    "Hacen la suma de los espectros en potencia 2. Y se muestra eso.Sobre el pedazo de exon esperaria periodicidad y sobre el otro nada.\n",
    "\n",
    "## Filtro anti-notch\n",
    "Pone un filtro selectivo de una frecuencia para ver la magnitud del pico. Suma las 4 magnitudes selectivas.\n",
    "\n",
    "## Espectrograma\n",
    "La limitacion que tiene Fourier es que el espectro que estamos viendo es de la señal completa."
   ]
  }
 ],
 "metadata": {
  "kernelspec": {
   "display_name": "Python 3 (ipykernel)",
   "language": "python",
   "name": "python3"
  },
  "language_info": {
   "codemirror_mode": {
    "name": "ipython",
    "version": 3
   },
   "file_extension": ".py",
   "mimetype": "text/x-python",
   "name": "python",
   "nbconvert_exporter": "python",
   "pygments_lexer": "ipython3",
   "version": "3.10.12"
  }
 },
 "nbformat": 4,
 "nbformat_minor": 5
}
